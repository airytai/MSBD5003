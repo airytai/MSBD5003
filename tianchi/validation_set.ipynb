{
 "cells": [
  {
   "cell_type": "code",
   "execution_count": 1,
   "metadata": {},
   "outputs": [],
   "source": [
    "lines = sc.textFile('./data/uid_iid')"
   ]
  },
  {
   "cell_type": "code",
   "execution_count": 2,
   "metadata": {},
   "outputs": [],
   "source": [
    "subset = {} "
   ]
  },
  {
   "cell_type": "code",
   "execution_count": 3,
   "metadata": {},
   "outputs": [],
   "source": [
    "import fileinput"
   ]
  },
  {
   "cell_type": "code",
   "execution_count": 4,
   "metadata": {},
   "outputs": [],
   "source": [
    "for line in fileinput.input(\"./data/tianchi_fresh_comp_train_item.csv\"):\n",
    "    subset[line.strip().split(\",\")[0]] = True"
   ]
  },
  {
   "cell_type": "code",
   "execution_count": 5,
   "metadata": {},
   "outputs": [],
   "source": [
    "def f(x): return x"
   ]
  },
  {
   "cell_type": "code",
   "execution_count": 6,
   "metadata": {},
   "outputs": [],
   "source": [
    "def extract1(line):\n",
    "    (uid, iid, ict), items = line.strip().split(\"\\t\")[0].split(\" \"), filter(lambda x:x[1]==4, [(i.split(\",\")[0], int(i.split(\",\")[1])) for i in line.strip().split(\"\\t\")[1].split(\" \")])\n",
    "    return (uid+\"\\t\"+iid, [\"-\".join(item[0].split(\"-\")[:2])+\"-0\" for item in items])"
   ]
  },
  {
   "cell_type": "code",
   "execution_count": 7,
   "metadata": {},
   "outputs": [],
   "source": [
    "counts = lines.filter(lambda x : subset.has_key(x.strip().split(\"\\t\")[0].split(\" \")[1]))\\\n",
    "                .map(lambda x : extract1(x))\\\n",
    "                .flatMapValues(f)\\\n",
    "                .map(lambda x : x[1]+\"\\t\"+x[0])"
   ]
  },
  {
   "cell_type": "code",
   "execution_count": 8,
   "metadata": {},
   "outputs": [
    {
     "name": "stdout",
     "output_type": "stream",
     "text": [
      "Traceback (most recent call last):\n",
      "  File \"/tmp/kernel-PySpark-67e416a2-f0c0-48ab-8a2a-1ca0e964de49/pyspark_runner.py\", line 205, in <module>\n",
      "    output.reset()\n",
      "AttributeError: 'NoneType' object has no attribute 'reset'\n"
     ]
    }
   ],
   "source": [
    "output = counts.saveAsTextFile(\"./buy\")"
   ]
  },
  {
   "cell_type": "code",
   "execution_count": null,
   "metadata": {},
   "outputs": [],
   "source": []
  },
  {
   "cell_type": "code",
   "execution_count": null,
   "metadata": {},
   "outputs": [],
   "source": []
  }
 ],
 "metadata": {
  "kernelspec": {
   "display_name": "Apache Toree - PySpark",
   "language": "python",
   "name": "apache_toree_pyspark"
  },
  "language_info": {
   "file_extension": ".py",
   "name": "python",
   "pygments_lexer": "python",
   "version": "2.7.12\n"
  }
 },
 "nbformat": 4,
 "nbformat_minor": 2
}
