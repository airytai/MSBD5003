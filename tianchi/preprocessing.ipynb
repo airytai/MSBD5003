{
 "cells": [
  {
   "cell_type": "code",
   "execution_count": 1,
   "metadata": {},
   "outputs": [],
   "source": [
    "data = sc.textFile('./data/tianchi_fresh_comp_train_user.csv', 1)"
   ]
  },
  {
   "cell_type": "code",
   "execution_count": 20,
   "metadata": {},
   "outputs": [],
   "source": [
    "# header = data.first()"
   ]
  },
  {
   "cell_type": "code",
   "execution_count": 2,
   "metadata": {},
   "outputs": [
    {
     "data": {
      "text/plain": [
       "23291028"
      ]
     },
     "execution_count": 2,
     "metadata": {},
     "output_type": "execute_result"
    }
   ],
   "source": [
    "data.count()"
   ]
  },
  {
   "cell_type": "code",
   "execution_count": 3,
   "metadata": {},
   "outputs": [],
   "source": [
    "dataheader = data.filter(lambda l: 'user_id' in l)"
   ]
  },
  {
   "cell_type": "code",
   "execution_count": 3,
   "metadata": {},
   "outputs": [
    {
     "data": {
      "text/plain": [
       "[u'user_id,item_id,behavior_type,user_geohash,item_category,time']"
      ]
     },
     "execution_count": 3,
     "metadata": {},
     "output_type": "execute_result"
    }
   ],
   "source": [
    "dataheader.collect()"
   ]
  },
  {
   "cell_type": "code",
   "execution_count": 4,
   "metadata": {},
   "outputs": [],
   "source": [
    "datanoheader = data.subtract(dataheader)"
   ]
  },
  {
   "cell_type": "code",
   "execution_count": 5,
   "metadata": {},
   "outputs": [
    {
     "data": {
      "text/plain": [
       "23291027"
      ]
     },
     "execution_count": 5,
     "metadata": {},
     "output_type": "execute_result"
    }
   ],
   "source": [
    "datanoheader.count()"
   ]
  },
  {
   "cell_type": "code",
   "execution_count": 5,
   "metadata": {},
   "outputs": [],
   "source": [
    "def extract(line):\n",
    "#     import time\n",
    "    try:\n",
    "        part = line.strip().split(\",\")\n",
    "        uid, iid, beh, ict, time = part[0], part[1], part[2], part[4], \"-\".join(part[5].split(\" \")[0].split(\"-\")[1:])+\"-\"+part[5].split(\" \")[1]\n",
    "        return ((uid, iid, ict), time+\",\"+beh)\n",
    "    except:\n",
    "        return ((\"\"), \"\")"
   ]
  },
  {
   "cell_type": "code",
   "execution_count": 6,
   "metadata": {},
   "outputs": [],
   "source": [
    "counts = datanoheader.map(lambda x : extract(x)) \\\n",
    "                .filter(lambda x : x[0]!=\"\") \\\n",
    "                .groupByKey() \\\n",
    "                .map(lambda x : (\" \".join(x[0])+\"\\t\"+\" \".join([str(item[\"time\"])+\",\"+item[\"beh\"] for item in sorted([{\"time\":content.split(\",\")[0],\"beh\":content.split(\",\")[1]} for content in x[1]],key=lambda x:x[\"time\"])])))"
   ]
  },
  {
   "cell_type": "code",
   "execution_count": 30,
   "metadata": {},
   "outputs": [],
   "source": [
    "# ptime = '2014-12-12 12'"
   ]
  },
  {
   "cell_type": "code",
   "execution_count": 31,
   "metadata": {},
   "outputs": [],
   "source": [
    "# ntime = \"-\".join(ptime.split(\" \")[0].split(\"-\")[1:])+\"-\"+ptime.split(\" \")[1]"
   ]
  },
  {
   "cell_type": "code",
   "execution_count": 32,
   "metadata": {},
   "outputs": [
    {
     "data": {
      "text/plain": [
       "12-12-12"
      ]
     },
     "execution_count": 32,
     "metadata": {},
     "output_type": "execute_result"
    }
   ],
   "source": [
    "# ntime"
   ]
  },
  {
   "cell_type": "code",
   "execution_count": 9,
   "metadata": {},
   "outputs": [
    {
     "name": "stdout",
     "output_type": "stream",
     "text": [
      "Traceback (most recent call last):\n",
      "  File \"/tmp/kernel-PySpark-db978949-e506-45ec-b69c-b5a9c4e7e0b2/pyspark_runner.py\", line 205, in <module>\n",
      "    output.reset()\n",
      "AttributeError: 'NoneType' object has no attribute 'reset'\n"
     ]
    }
   ],
   "source": [
    "output = counts.saveAsTextFile(\"./data/uid_iid\")"
   ]
  },
  {
   "cell_type": "code",
   "execution_count": 7,
   "metadata": {},
   "outputs": [
    {
     "data": {
      "text/plain": [
       "8858710"
      ]
     },
     "execution_count": 7,
     "metadata": {},
     "output_type": "execute_result"
    }
   ],
   "source": [
    "counts.count()"
   ]
  },
  {
   "cell_type": "code",
   "execution_count": 10,
   "metadata": {},
   "outputs": [
    {
     "data": {
      "text/plain": [
       "[u'13379868 335291418 12311\\t12-07-11,1 12-07-11,1', u'36219062 377617510 4370\\t12-17-18,1 12-17-18,1', u'121279433 33457393 8771\\t12-02-09,1 12-02-09,1', u'51303247 316801302 1080\\t11-19-10,1 11-19-10,1', u'12747342 86960541 7957\\t12-10-08,1 12-10-08,1', u'35014327 365423590 6417\\t12-12-21,1', u'54723560 70506361 10533\\t11-27-08,1 11-27-08,1', u'14146557 208758792 3424\\t11-28-22,1 11-28-22,1', u'117297257 60971812 10661\\t11-22-21,1', u'15632656 351362124 6513\\t11-27-23,1 11-27-23,1', u'134236257 306190611 11279\\t12-09-14,1', u'126102987 220219924 5894\\t12-09-15,1 12-09-15,2', u'35145016 295554320 5894\\t11-24-23,1 11-24-23,1', u'121714754 118634172 14079\\t12-05-22,1 12-05-22,1', u'43364401 114350756 6513\\t12-16-17,1', u'3381823 393931440 10894\\t11-26-13,1 11-26-13,1', u'46761269 147794024 13080\\t11-22-02,1 11-22-02,1', u'122161379 383194411 3381\\t12-05-16,1 12-05-16,1', u'119810580 270058907 10507\\t11-25-20,1 11-25-20,1', u'42928165 397266728 14041\\t11-27-04,1 11-27-04,1']"
      ]
     },
     "execution_count": 10,
     "metadata": {},
     "output_type": "execute_result"
    }
   ],
   "source": [
    "counts.take(20)"
   ]
  },
  {
   "cell_type": "code",
   "execution_count": null,
   "metadata": {},
   "outputs": [],
   "source": []
  }
 ],
 "metadata": {
  "kernelspec": {
   "display_name": "Apache Toree - PySpark",
   "language": "python",
   "name": "apache_toree_pyspark"
  },
  "language_info": {
   "file_extension": ".py",
   "name": "python",
   "pygments_lexer": "python",
   "version": "2.7.12\n"
  }
 },
 "nbformat": 4,
 "nbformat_minor": 2
}
