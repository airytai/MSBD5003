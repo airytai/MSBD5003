{
 "cells": [
  {
   "cell_type": "code",
   "execution_count": 1,
   "metadata": {},
   "outputs": [],
   "source": [
    "lines = sc.textFile('./data/uid_iid')"
   ]
  },
  {
   "cell_type": "code",
   "execution_count": 2,
   "metadata": {},
   "outputs": [],
   "source": [
    "# target, etime, subset = \"12-19-0\", \"12-18-23\", {}\n",
    "target, etime, subset = \"12-18-0\", \"12-17-23\", {}\n",
    "# target, etime, subset = \"12-17-0\", \"12-16-23\", {}\n",
    "# target, etime, subset = \"12-16-0\", \"12-15-23\", {}\n",
    "# target, etime, subset = \"12-15-0\", \"12-14-23\", {}\n",
    "# target, etime, subset = \"12-14-0\", \"12-13-23\", {}\n",
    "# target, etime, subset = \"12-13-0\", \"12-12-23\", {}\n",
    "# target, etime, subset = \"12-12-0\", \"12-11-23\", {}\n",
    "# target, etime, subset = \"12-11-0\", \"12-10-23\", {}\n",
    "# target, etime, subset = \"12-10-0\", \"12-09-23\", {}\n",
    "# target, etime, subset = \"12-09-0\", \"12-08-23\", {}\n",
    "# target, etime, subset = \"12-08-0\", \"12-07-23\", {}\n",
    "# target, etime, subset = \"12-07-0\", \"12-06-23\", {}\n",
    "# target, etime, subset = \"12-06-0\", \"12-05-23\", {}\n",
    "# target, etime, subset = \"12-05-0\", \"12-04-23\", {}\n",
    "# target, etime, subset = \"12-04-0\", \"12-03-23\", {}\n",
    "# target, etime, subset = \"12-03-0\", \"12-04-23\", {}\n",
    "# target, etime, subset = \"12-02-0\", \"12-01-23\", {}\n",
    "# target, etime, subset = \"12-01-0\", \"11-30-23\", {}"
   ]
  },
  {
   "cell_type": "code",
   "execution_count": 3,
   "metadata": {},
   "outputs": [],
   "source": [
    "import fileinput"
   ]
  },
  {
   "cell_type": "code",
   "execution_count": 4,
   "metadata": {},
   "outputs": [],
   "source": [
    "for line in fileinput.input(\"./data/tianchi_fresh_comp_train_item.csv\"):\n",
    "    subset[line.split(\",\")[0]] = True"
   ]
  },
  {
   "cell_type": "code",
   "execution_count": 5,
   "metadata": {},
   "outputs": [],
   "source": [
    "def extract1(line):\n",
    "    import time\n",
    "    (uid, iid, ict) = line.strip().split(\"\\t\")[0].split(\" \")\n",
    "    if subset.has_key(iid):\n",
    "        items = filter(lambda x:x[0]>0, [(int(time.mktime(time.strptime('2014-'+etime,'%Y-%m-%d-%H'))-time.mktime(time.strptime('2014-'+i.split(\",\")[0],'%Y-%m-%d-%H')))/(24*3600)+1, int(i.split(\",\")[1])) for i in line.strip().split(\"\\t\")[1].split(\" \")])\n",
    "        return (iid,items)\n",
    "    else:\n",
    "        return (\"\",\"\")"
   ]
  },
  {
   "cell_type": "code",
   "execution_count": 6,
   "metadata": {},
   "outputs": [],
   "source": [
    "def extract2(items_list):\n",
    "    items, items_buy, items_buy_3, f, inf = [], [], [], [0]*37, 100\n",
    "    f[30] = len(items_list) # number of people who have interactions\n",
    "    for i in items_list:\n",
    "        if len(filter(lambda x:x[1]==4,i))>0:\n",
    "            items_buy.append(i)\n",
    "        if len(filter(lambda x:x[1]==4 and x[0]<=3,i))>0:\n",
    "            items_buy_3.append(i)\n",
    "        items.extend(i)\n",
    "    f[31] = len(items_buy) # number of people who buy the item\n",
    "    f[32] = len(items_buy_3) # number of people who buy the item in last three days\n",
    "    f[33] = len(filter(lambda x:len(x)==1,items_list)) # number of people who have one interaction\n",
    "    f[34] = len(filter(lambda x:len(x)==2,items_list)) # number of people who have two interactions\n",
    "    f[35] = len(filter(lambda x:len(x)==3,items_list)) # number of people who have three interactions\n",
    "    items = sorted(items, key=lambda x:x[0], reverse=True)\n",
    "    f[0] = len(filter(lambda x:x[0]<=1 and x[1]==1, items)) # number of click on last day\n",
    "    f[1] = len(filter(lambda x:x[0]<=1 and x[1]==2, items)) # number of collect on last day\n",
    "    f[2] = len(filter(lambda x:x[0]<=1 and x[1]==3, items)) # number of cart on last day\n",
    "    f[3] = len(filter(lambda x:x[0]<=1 and x[1]==4, items)) # number of buy on last day\n",
    "    f[4] = len(filter(lambda x:x[0]==2 and x[1]==1, items)) # number of click on penultimate day\n",
    "    f[5] = len(filter(lambda x:x[0]==2 and x[1]==2, items)) # number of collect on penultimate day\n",
    "    f[6] = len(filter(lambda x:x[0]==2 and x[1]==3, items)) # number of cart on penultimate day\n",
    "    f[7] = len(filter(lambda x:x[0]==2 and x[1]==4, items)) # number of buy on penultimate day\n",
    "    f[8] = len(filter(lambda x:x[0]==3 and x[1]==1, items)) # number of click on third last day\n",
    "    f[9] = len(filter(lambda x:x[0]==3 and x[1]==2, items)) # number of collect on third last day\n",
    "    f[10] = len(filter(lambda x:x[0]==3 and x[1]==3, items)) # number of cart on third last day\n",
    "    f[11] = len(filter(lambda x:x[0]==3 and x[1]==4, items)) # number of buy on third last day\n",
    "    f[12] = len(filter(lambda x:x[0]<=7 and x[1]==1, items)) # number of click last week\n",
    "    f[13] = len(filter(lambda x:x[0]<=7 and x[1]==2, items)) # number of collect last week\n",
    "    f[14] = len(filter(lambda x:x[0]<=7 and x[1]==3, items)) # number of cart last week\n",
    "    f[15] = len(filter(lambda x:x[0]<=7 and x[1]==4, items)) # number of buy last week\n",
    "    f[16] = len(filter(lambda x:x[0]<=14 and x[1]==1, items)) # number of click last two weeks\n",
    "    f[17] = len(filter(lambda x:x[0]<=14 and x[1]==2, items)) # number of collect last two weeks\n",
    "    f[18] = len(filter(lambda x:x[0]<=14 and x[1]==3, items)) # number of cart last two weeks\n",
    "    f[19] = len(filter(lambda x:x[0]<=14 and x[1]==4, items)) # number of buy last two weeks\n",
    "    f[20] = min(1.0,round(1.0*(f[3]+f[7]+f[11])/(f[0]+f[4]+f[8]),4)) if (f[0]+f[4]+f[8]) else 0.0 # click conversion rate last three days\n",
    "    f[21] = min(1.0,round(1.0*(f[3]+f[7]+f[11])/(f[1]+f[5]+f[9]),4)) if (f[1]+f[5]+f[9])!=0 else 0.0 # collect conversion rate last three days\n",
    "    f[22] = min(1.0,round(1.0*(f[3]+f[7]+f[11])/(f[2]+f[6]+f[10]),4)) if f[2]!=0 else 0.0 # cart conversion rate last three days\n",
    "    f[23] = min(1.0,round(1.0*f[7]/f[4],4)) if f[4]!=0 else 0.0 # click conversion rate last two weeks\n",
    "    f[24] = min(1.0,round(1.0*f[7]/f[5],4)) if f[5]!=0 else 0.0 # collect conversion rate last two weeks\n",
    "    f[25] = min(1.0,round(1.0*f[7]/f[6],4)) if f[6]!=0 else 0.0 # cart conversion rate last two weeks\n",
    "    buy = filter(lambda x:x[1]==4, items)\n",
    "    last = buy[-1][0] if len(buy)!=0 else inf\n",
    "    f[26] = len(buy) # total number of buy \n",
    "    f[27] = len(filter(lambda x:x[0]==last and x[1]==1, items)) # number of click on the last day of buy\n",
    "    f[28] = len(filter(lambda x:x[0]==last and x[1]==2, items)) # number of collect on the last day of buy\n",
    "    f[29] = len(filter(lambda x:x[0]==last and x[1]==3, items)) # number of cart on the last day of buy\n",
    "    f[36] = round(1.0*len(items)/f[30],4) if f[30]!=0 else 0.0 # average interations\n",
    "    return \"\\t\".join([str(i) for i in f])"
   ]
  },
  {
   "cell_type": "code",
   "execution_count": 7,
   "metadata": {},
   "outputs": [],
   "source": [
    "counts = lines.map(lambda x : extract1(x))\\\n",
    "                .filter(lambda x : x[0]!=\"\")\\\n",
    "                .groupByKey()\\\n",
    "                .map(lambda x : x[0]+\"\\t\"+extract2(x[1]))"
   ]
  },
  {
   "cell_type": "code",
   "execution_count": 8,
   "metadata": {},
   "outputs": [
    {
     "name": "stdout",
     "output_type": "stream",
     "text": [
      "Traceback (most recent call last):\n",
      "  File \"/tmp/kernel-PySpark-2396b07d-4fb7-4e3f-86de-1f74e11cce00/pyspark_runner.py\", line 205, in <module>\n",
      "    output.reset()\n",
      "AttributeError: 'NoneType' object has no attribute 'reset'"
     ]
    }
   ],
   "source": [
    "output = counts.saveAsTextFile(\"./feature/\"+target+\"/item/\")"
   ]
  },
  {
   "cell_type": "code",
   "execution_count": null,
   "metadata": {},
   "outputs": [],
   "source": []
  }
 ],
 "metadata": {
  "kernelspec": {
   "display_name": "Apache Toree - PySpark",
   "language": "python",
   "name": "apache_toree_pyspark"
  },
  "language_info": {
   "file_extension": ".py",
   "name": "python",
   "pygments_lexer": "python",
   "version": "2.7.12\n"
  }
 },
 "nbformat": 4,
 "nbformat_minor": 2
}
