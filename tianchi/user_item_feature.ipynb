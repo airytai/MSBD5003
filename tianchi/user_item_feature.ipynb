{
 "cells": [
  {
   "cell_type": "code",
   "execution_count": 1,
   "metadata": {},
   "outputs": [],
   "source": [
    "lines = sc.textFile('./data/uid_iid')"
   ]
  },
  {
   "cell_type": "code",
   "execution_count": 2,
   "metadata": {},
   "outputs": [],
   "source": [
    "# target, etime, subset = \"12-19-0\", \"12-18-23\", {}\n",
    "target, etime, subset = \"12-18-0\", \"12-17-23\", {}\n",
    "# target, etime, subset = \"12-17-0\", \"12-16-23\", {}\n",
    "# target, etime, subset = \"12-16-0\", \"12-15-23\", {}\n",
    "# target, etime, subset = \"12-15-0\", \"12-14-23\", {}\n",
    "# target, etime, subset = \"12-14-0\", \"12-13-23\", {}\n",
    "# target, etime, subset = \"12-13-0\", \"12-12-23\", {}\n",
    "# target, etime, subset = \"12-12-0\", \"12-11-23\", {}\n",
    "# target, etime, subset = \"12-11-0\", \"12-10-23\", {}\n",
    "# target, etime, subset = \"12-10-0\", \"12-09-23\", {}\n",
    "# target, etime, subset = \"12-09-0\", \"12-08-23\", {}\n",
    "# target, etime, subset = \"12-08-0\", \"12-07-23\", {}\n",
    "# target, etime, subset = \"12-07-0\", \"12-06-23\", {}\n",
    "# target, etime, subset = \"12-06-0\", \"12-05-23\", {}\n",
    "# target, etime, subset = \"12-05-0\", \"12-04-23\", {}\n",
    "# target, etime, subset = \"12-04-0\", \"12-03-23\", {}\n",
    "# target, etime, subset = \"12-03-0\", \"12-04-23\", {}\n",
    "# target, etime, subset = \"12-02-0\", \"12-01-23\", {}\n",
    "# target, etime, subset = \"12-01-0\", \"11-30-23\", {}"
   ]
  },
  {
   "cell_type": "code",
   "execution_count": 3,
   "metadata": {},
   "outputs": [],
   "source": [
    "import fileinput"
   ]
  },
  {
   "cell_type": "code",
   "execution_count": 4,
   "metadata": {},
   "outputs": [],
   "source": [
    "for line in fileinput.input(\"./data/tianchi_fresh_comp_train_item.csv\"):\n",
    "    subset[line.strip().split(\",\")[0]] = True"
   ]
  },
  {
   "cell_type": "code",
   "execution_count": 5,
   "metadata": {},
   "outputs": [],
   "source": [
    "def extract(line):\n",
    "    import time\n",
    "    import itertools\n",
    "    (uid, iid, ict) = line.strip().split(\"\\t\")[0].split(\" \")\n",
    "    if subset.has_key(iid):\n",
    "        items = filter(lambda x:x[0]>0, [(int(time.mktime(time.strptime('2014-'+etime,'%Y-%m-%d-%H'))-time.mktime(time.strptime('2014-'+i.split(\",\")[0],'%Y-%m-%d-%H')))/(24*3600)+1, int(i.split(\",\")[1])) for i in line.strip().split(\"\\t\")[1].split(\" \")])\n",
    "        f, inf = [0]*22, 100\n",
    "        buy = filter(lambda x:x[1]==4, items)\n",
    "        last = buy[-1][0] if len(buy)!=0 else inf\n",
    "        a1 = filter(lambda x:x[0]<last and x[1]==1, items) \n",
    "        a2 = filter(lambda x:x[0]<last and x[1]==2, items) \n",
    "        a3 = filter(lambda x:x[0]<last and x[1]==3, items)\n",
    "        # statistics\n",
    "        f[0] = a2[-1][0] if len(a2)!=0 else inf # number of days till last collect after buy\n",
    "        f[1] = a3[-1][0] if len(a3)!=0 else inf # number of days till last cart after buy\n",
    "        f[2] = len(a1) # number of click after buy\n",
    "        f[3] = len(a2) # number of collect after buy\n",
    "        f[4] = len(a3) # number of cart after buy\n",
    "        f[5] = len(filter(lambda x:x[0]<=1, items)) # number of interaction last day\n",
    "        f[6] = len(filter(lambda x:x[0]==2, items)) # number of interaction penultimate day\n",
    "        f[7] = len(filter(lambda x:x[0]==3, items)) # number of interaction third last day\n",
    "        f[8] = len(filter(lambda x:x[0]==4, items)) # number of interaction fourth last day\n",
    "        f[9] = len(filter(lambda x:x[0]<=7, items)) # number of interaction last week\n",
    "        f[10] = len(buy) # number of buy in history\n",
    "        f[11] = last # number of days till last buy\n",
    "        f[12] = len(set([item[0] for item in items if item[0]<=3])) # number of days of interaction last three days\n",
    "        f[13] = len(set([item[0] for item in items if item[0]<=7])) # number of days of interaction last week\n",
    "        f[14] = len(set([item[0] for item in items if item[0]<=21])) # number of days of interaction last three weeks\n",
    "        f[15] = items[-1][0] if len(items)!=0 else inf # number of days till last interaction\n",
    "        inter = [len(list(i)) for _,i in itertools.groupby(items, lambda x: x[0])]\n",
    "        f[16] = len(inter) # number of days interaction\n",
    "        f[17] = max(inter) if len(inter)!=0 else 0 # most number of interactions one day\n",
    "        f[18] = len(filter(lambda x:x[1]==1, items)) # total number of interactions\n",
    "        f[19] = len(filter(lambda x:x[1]==2, items)) # total number of collect\n",
    "        f[20] = len(filter(lambda x:x[1]==3, items)) # total number of cart\n",
    "        f[21] = items[0][0]-items[-1][0]+1 if len(items)!=0 else 0 # duration from firts interaction till last interaction\n",
    "        return (uid+\"\\t\"+iid+\"\\t\"+ict+\"\\t\"+\"\\t\".join([str(i) for i in f]))\n",
    "    else:\n",
    "        return (\"\")"
   ]
  },
  {
   "cell_type": "code",
   "execution_count": 6,
   "metadata": {},
   "outputs": [],
   "source": [
    "counts = lines.map(lambda x : extract(x))\\\n",
    "                .filter(lambda x : x!=\"\")"
   ]
  },
  {
   "cell_type": "code",
   "execution_count": 7,
   "metadata": {},
   "outputs": [
    {
     "name": "stdout",
     "output_type": "stream",
     "text": [
      "Traceback (most recent call last):\n",
      "  File \"/tmp/kernel-PySpark-e38eed94-64e1-4487-a6d3-03577ef8f20e/pyspark_runner.py\", line 205, in <module>\n",
      "    output.reset()\n",
      "AttributeError: 'NoneType' object has no attribute 'reset'\n"
     ]
    }
   ],
   "source": [
    "output = counts.saveAsTextFile(\"./feature/\"+target+\"/user_item/\")"
   ]
  },
  {
   "cell_type": "code",
   "execution_count": 8,
   "metadata": {},
   "outputs": [
    {
     "data": {
      "text/plain": [
       "Name: org.apache.toree.interpreter.broker.BrokerException\n",
       "Message: null was reset!\n",
       "StackTrace: org.apache.toree.interpreter.broker.BrokerState$$anonfun$reset$1.apply(BrokerState.scala:191)\n",
       "org.apache.toree.interpreter.broker.BrokerState$$anonfun$reset$1.apply(BrokerState.scala:189)\n",
       "scala.collection.Iterator$class.foreach(Iterator.scala:893)\n",
       "scala.collection.AbstractIterator.foreach(Iterator.scala:1336)\n",
       "scala.collection.IterableLike$class.foreach(IterableLike.scala:72)\n",
       "scala.collection.AbstractIterable.foreach(Iterable.scala:54)\n",
       "org.apache.toree.interpreter.broker.BrokerState.reset(BrokerState.scala:189)\n",
       "org.apache.toree.kernel.interpreter.pyspark.PySparkService$$anonfun$pySparkProcess$2.apply(PySparkService.scala:63)\n",
       "org.apache.toree.kernel.interpreter.pyspark.PySparkService$$anonfun$pySparkProcess$2.apply(PySparkService.scala:61)\n",
       "org.apache.toree.interpreter.broker.BrokerProcessHandler.onProcessComplete(BrokerProcessHandler.scala:67)\n",
       "org.apache.commons.exec.DefaultExecutor$1.run(DefaultExecutor.java:201)\n",
       "java.lang.Thread.run(Thread.java:748)"
      ]
     },
     "execution_count": 8,
     "metadata": {},
     "output_type": "execute_result"
    }
   ],
   "source": [
    "# counts.count()"
   ]
  },
  {
   "cell_type": "code",
   "execution_count": null,
   "metadata": {},
   "outputs": [],
   "source": [
    "# counts.take(20)"
   ]
  },
  {
   "cell_type": "code",
   "execution_count": null,
   "metadata": {},
   "outputs": [],
   "source": []
  }
 ],
 "metadata": {
  "kernelspec": {
   "display_name": "Apache Toree - PySpark",
   "language": "python",
   "name": "apache_toree_pyspark"
  },
  "language_info": {
   "file_extension": ".py",
   "name": "python",
   "pygments_lexer": "python",
   "version": "2.7.12\n"
  }
 },
 "nbformat": 4,
 "nbformat_minor": 2
}
