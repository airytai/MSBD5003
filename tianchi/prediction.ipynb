{
 "cells": [
  {
   "cell_type": "code",
   "execution_count": 1,
   "metadata": {},
   "outputs": [],
   "source": [
    "import time\n",
    "import random\n",
    "from sklearn.ensemble import GradientBoostingClassifier\n",
    "time_start = time.time()"
   ]
  },
  {
   "cell_type": "code",
   "execution_count": 2,
   "metadata": {},
   "outputs": [],
   "source": [
    "buyset = {}\n",
    "for line in sc.textFile('./buy').collect():\n",
    "    buyset[line.strip()] = True\n",
    "X_train_0, Y_train_0, X_train_1, Y_train_1 = [], [], [], []"
   ]
  },
  {
   "cell_type": "code",
   "execution_count": 3,
   "metadata": {},
   "outputs": [],
   "source": [
    "dates = [\"12-17-0\",\"12-18-0\"]\n",
    "# dates = [\"12-19-0\"]\n",
    "for date in dates:\n",
    "    for line in sc.textFile('./prediction/'+date, 1).collect():\n",
    "        if buyset.has_key(date+\"\\t\"+\"\\t\".join(line.strip().split(\"\\t\")[:2])):\n",
    "            X_train_1.append([float(line.strip().split(\"\\t\")[3:][i]) for i in xrange(len(line.strip().split(\"\\t\")[3:])) if i in [1,2,4,5,9,12,15,17,18,20,23,27,48,50,62,66]])\n",
    "            Y_train_1.append(1)\n",
    "        else:\n",
    "            X_train_0.append([float(line.strip().split(\"\\t\")[3:][i]) for i in xrange(len(line.strip().split(\"\\t\")[3:])) if i in [1,2,4,5,9,12,15,17,18,20,23,27,48,50,62,66]])\n",
    "            Y_train_0.append(0) "
   ]
  },
  {
   "cell_type": "code",
   "execution_count": 4,
   "metadata": {},
   "outputs": [],
   "source": [
    "N = 3\n",
    "X_train, Y_train = [[] for i in xrange(N)], [[] for i in xrange(N)]\n",
    "for i in xrange(N):\n",
    "        for j in random.sample([j for j in xrange(len(X_train_0))], 10*len(X_train_1)):\n",
    "            X_train[i].append(X_train_0[j])\n",
    "            Y_train[i].append(Y_train_0[j])\n",
    "        X_train[i].extend(X_train_1)\n",
    "        Y_train[i].extend(Y_train_1)"
   ]
  },
  {
   "cell_type": "code",
   "execution_count": 5,
   "metadata": {},
   "outputs": [
    {
     "name": "stdout",
     "output_type": "stream",
     "text": [
      "[100.0, 3.0, 0.0, 3.0, 8.0, 2.0, 1.0, 5.0, 7.0, 0.0, 100.0, 3.0, 3.0, 0.0, 0.0, 0.0]\n",
      "0\n",
      "4290\n"
     ]
    }
   ],
   "source": [
    "print X_train[0][0]\n",
    "print Y_train[0][0]\n",
    "print len(Y_train[0])"
   ]
  },
  {
   "cell_type": "code",
   "execution_count": 5,
   "metadata": {},
   "outputs": [],
   "source": [
    "clfs = [GradientBoostingClassifier(n_estimators=50, max_depth=3, learning_rate=0.1) for i in xrange(N)]"
   ]
  },
  {
   "cell_type": "code",
   "execution_count": 6,
   "metadata": {},
   "outputs": [
    {
     "name": "stdout",
     "output_type": "stream",
     "text": [
      "training finished!~\n"
     ]
    }
   ],
   "source": [
    "for i in xrange(N):\n",
    "    clfs[i].fit(X_train[i],Y_train[i])\n",
    "print \"training finished!~\""
   ]
  },
  {
   "cell_type": "code",
   "execution_count": 7,
   "metadata": {},
   "outputs": [],
   "source": [
    "def prediction(line):\n",
    "    feature = [float(line.strip().split(\"\\t\")[3:][i]) for i in xrange(len(line.strip().split(\"\\t\")[3:])) if i in [1,2,4,5,9,12,15,17,18,20,23,27,48,50,62,66]]\n",
    "    return (sum([clfs[i].predict_proba([feature])[0][0] for i in xrange(N)]), \"\\t\".join(line.strip().split(\"\\t\")[:2]))"
   ]
  },
  {
   "cell_type": "code",
   "execution_count": 8,
   "metadata": {},
   "outputs": [
    {
     "name": "stdout",
     "output_type": "stream",
     "text": [
      "prediction finished!~\n"
     ]
    }
   ],
   "source": [
    "pred = \"12-19-0\"\n",
    "lines = sc.textFile('./prediction/'+pred, 1)\n",
    "counts = lines.map(lambda x : prediction(x)).sortByKey().collect()\n",
    "# recall, precision, correct = len([1 for key in buyset.keys() if key.strip().split(\"\\t\")[0] == pred]), 400, len([1 for item in counts[:400] if buyset.has_key(pred+\"\\t\"+item[1])])\n",
    "recall, precision, correct = len([1 for key in buyset.keys() if key.strip().split(\"\\t\")[0] == pred]), len(counts), len([1 for item in counts if buyset.has_key(pred+\"\\t\"+item[1])])\n",
    "print \"prediction finished!~\""
   ]
  },
  {
   "cell_type": "code",
   "execution_count": 9,
   "metadata": {},
   "outputs": [
    {
     "name": "stdout",
     "output_type": "stream",
     "text": [
      "0 148385 0"
     ]
    },
    {
     "data": {
      "text/plain": [
       "Name: org.apache.toree.interpreter.broker.BrokerException\n",
       "Message: Traceback (most recent call last):\n",
       "  File \"/tmp/kernel-PySpark-1ee3abcb-336a-44d5-8b89-fc4f80945260/pyspark_runner.py\", line 189, in <module>\n",
       "    eval(compiled_code)\n",
       "  File \"<string>\", line 1, in <module>\n",
       "ZeroDivisionError: float division by zero\n",
       "\n",
       "StackTrace: org.apache.toree.interpreter.broker.BrokerState$$anonfun$markFailure$1.apply(BrokerState.scala:163)\n",
       "org.apache.toree.interpreter.broker.BrokerState$$anonfun$markFailure$1.apply(BrokerState.scala:163)\n",
       "scala.Option.foreach(Option.scala:257)\n",
       "org.apache.toree.interpreter.broker.BrokerState.markFailure(BrokerState.scala:162)\n",
       "sun.reflect.NativeMethodAccessorImpl.invoke0(Native Method)\n",
       "sun.reflect.NativeMethodAccessorImpl.invoke(NativeMethodAccessorImpl.java:62)\n",
       "sun.reflect.DelegatingMethodAccessorImpl.invoke(DelegatingMethodAccessorImpl.java:43)\n",
       "java.lang.reflect.Method.invoke(Method.java:498)\n",
       "py4j.reflection.MethodInvoker.invoke(MethodInvoker.java:244)\n",
       "py4j.reflection.ReflectionEngine.invoke(ReflectionEngine.java:357)\n",
       "py4j.Gateway.invoke(Gateway.java:280)\n",
       "py4j.commands.AbstractCommand.invokeMethod(AbstractCommand.java:132)\n",
       "py4j.commands.CallCommand.execute(CallCommand.java:79)\n",
       "py4j.GatewayConnection.run(GatewayConnection.java:214)\n",
       "java.lang.Thread.run(Thread.java:748)"
      ]
     },
     "execution_count": 9,
     "metadata": {},
     "output_type": "execute_result"
    }
   ],
   "source": [
    "print recall, precision, correct, 1.0*correct/recall, 1.0*correct/precision, 2*1.0*correct/recall*1.0*correct/precision/(1.0*correct/recall+1.0*correct/precision)"
   ]
  },
  {
   "cell_type": "code",
   "execution_count": 10,
   "metadata": {},
   "outputs": [
    {
     "name": "stdout",
     "output_type": "stream",
     "text": [
      " 134.337442875\n"
     ]
    }
   ],
   "source": [
    "time_end = time.time()\n",
    "print time_end-time_start"
   ]
  },
  {
   "cell_type": "code",
   "execution_count": 20,
   "metadata": {},
   "outputs": [
    {
     "name": "stdout",
     "output_type": "stream",
     "text": [
      "[u'35482754', u'307600160']\n",
      "[u'138961180', u'98603220']\n",
      "[u'25737649', u'17712290']\n",
      "[u'100226515', u'250781249']\n",
      "[u'5369231', u'394658338']\n",
      "[u'134979525', u'338630082']\n",
      "[u'50114359', u'283687321']\n",
      "[u'122132057', u'288398671']\n",
      "[u'62879735', u'384038335']\n",
      "[u'31182685', u'332581378']\n",
      "[u'50114359', u'229347739']\n",
      "[u'137640381', u'205571401']\n",
      "[u'31182685', u'73233753']\n",
      "[u'43484740', u'222614344']\n",
      "[u'103823974', u'37910916']\n",
      "[u'128338662', u'311499944']\n",
      "[u'48967362', u'68940123']\n",
      "[u'10129914', u'249618450']\n",
      "[u'4915814', u'343575787']\n",
      "[u'138780010', u'401070714']\n"
     ]
    }
   ],
   "source": [
    "for i in range(20):\n",
    "    print counts[i][1].split()"
   ]
  },
  {
   "cell_type": "code",
   "execution_count": 29,
   "metadata": {},
   "outputs": [],
   "source": [
    "user_id, item_id = [], []\n",
    "for i in range(len(counts)):\n",
    "#     print (counts[i][1].split())[0], (counts[i][1].split())[1]\n",
    "    user_id.append((counts[i][1].split())[0])\n",
    "    item_id.append((counts[i][1].split())[1])"
   ]
  },
  {
   "cell_type": "code",
   "execution_count": 30,
   "metadata": {},
   "outputs": [
    {
     "data": {
      "text/plain": [
       "(148385, 148385)"
      ]
     },
     "execution_count": 30,
     "metadata": {},
     "output_type": "execute_result"
    }
   ],
   "source": [
    "len(user_id), len(item_id)"
   ]
  },
  {
   "cell_type": "code",
   "execution_count": 13,
   "metadata": {},
   "outputs": [
    {
     "data": {
      "text/plain": [
       "148385"
      ]
     },
     "execution_count": 13,
     "metadata": {},
     "output_type": "execute_result"
    }
   ],
   "source": [
    "len(counts)"
   ]
  },
  {
   "cell_type": "code",
   "execution_count": 14,
   "metadata": {},
   "outputs": [],
   "source": [
    "import pandas as pd"
   ]
  },
  {
   "cell_type": "code",
   "execution_count": 31,
   "metadata": {},
   "outputs": [],
   "source": [
    "sub = pd.DataFrame()"
   ]
  },
  {
   "cell_type": "code",
   "execution_count": 32,
   "metadata": {},
   "outputs": [],
   "source": [
    "sub['user_id'] = user_id"
   ]
  },
  {
   "cell_type": "code",
   "execution_count": 33,
   "metadata": {},
   "outputs": [],
   "source": [
    "sub['item_id'] = item_id"
   ]
  },
  {
   "cell_type": "code",
   "execution_count": 35,
   "metadata": {},
   "outputs": [],
   "source": [
    "sub.to_csv('tianchi_mobile_recommendation_predict.csv', index = False)"
   ]
  },
  {
   "cell_type": "code",
   "execution_count": 34,
   "metadata": {},
   "outputs": [
    {
     "data": {
      "text/plain": [
       "          user_id    item_id\n",
       "0        35482754  307600160\n",
       "1       138961180   98603220\n",
       "2        25737649   17712290\n",
       "3       100226515  250781249\n",
       "4         5369231  394658338\n",
       "5       134979525  338630082\n",
       "6        50114359  283687321\n",
       "7       122132057  288398671\n",
       "8        62879735  384038335\n",
       "9        31182685  332581378\n",
       "10       50114359  229347739\n",
       "11      137640381  205571401\n",
       "12       31182685   73233753\n",
       "13       43484740  222614344\n",
       "14      103823974   37910916\n",
       "15      128338662  311499944\n",
       "16       48967362   68940123\n",
       "17       10129914  249618450\n",
       "18        4915814  343575787\n",
       "19      138780010  401070714\n",
       "20      112619968   95867699\n",
       "21      121986074  215620055\n",
       "22       38026943  253800192\n",
       "23       35482754  399454553\n",
       "24       61750058   67897568\n",
       "25       18249259   80411699\n",
       "26       12952941  195290669\n",
       "27       13709817  299941043\n",
       "28       41686678  385753960\n",
       "29       12952941  401863214\n",
       "...           ...        ...\n",
       "148355   52685207  276983475\n",
       "148356   52685207  126065135\n",
       "148357   52685207   49990815\n",
       "148358   62747231  139036671\n",
       "148359   62747231  349659575\n",
       "148360   62747231  263484894\n",
       "148361   62747231  332114173\n",
       "148362   25618003  155144784\n",
       "148363   23730268  189907514\n",
       "148364  132541898  282831052\n",
       "148365   28317953  398362935\n",
       "148366   56508471  140090160\n",
       "148367  114709109  329041388\n",
       "148368  114709109  390725382\n",
       "148369  114709109  167470186\n",
       "148370  114709109  284979509\n",
       "148371   56162253  365850557\n",
       "148372   47998436  293599011\n",
       "148373   37190474   86162668\n",
       "148374   37190474  201794744\n",
       "148375  142258617  388998815\n",
       "148376   65268738  388998815\n",
       "148377  103405993  366911878\n",
       "148378   21073473  336449474\n",
       "148379   15670219  366911878\n",
       "148380   33100072  388998815\n",
       "148381  107295218  388998815\n",
       "148382  138652675  366911878\n",
       "148383   51193807  366911878\n",
       "148384  123434069  388998815\n",
       "\n",
       "[148385 rows x 2 columns]"
      ]
     },
     "execution_count": 34,
     "metadata": {},
     "output_type": "execute_result"
    }
   ],
   "source": [
    "sub"
   ]
  },
  {
   "cell_type": "code",
   "execution_count": null,
   "metadata": {},
   "outputs": [],
   "source": []
  }
 ],
 "metadata": {
  "kernelspec": {
   "display_name": "Apache Toree - PySpark",
   "language": "python",
   "name": "apache_toree_pyspark"
  },
  "language_info": {
   "file_extension": ".py",
   "name": "python",
   "pygments_lexer": "python",
   "version": "2.7.12\n"
  }
 },
 "nbformat": 4,
 "nbformat_minor": 2
}
