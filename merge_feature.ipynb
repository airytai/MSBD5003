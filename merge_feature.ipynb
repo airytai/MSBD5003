{
 "cells": [
  {
   "cell_type": "code",
   "execution_count": 1,
   "metadata": {},
   "outputs": [],
   "source": [
    "target, etime, subset = \"12-19-0\", \"12-18-23\", {}\n",
    "# target, etime, subset = \"12-18-0\", \"12-17-23\", {}\n",
    "# target, etime, subset = \"12-17-0\", \"12-16-23\", {}\n",
    "# target, etime, subset = \"12-16-0\", \"12-15-23\", {}\n",
    "# target, etime, subset = \"12-15-0\", \"12-14-23\", {}\n",
    "# target, etime, subset = \"12-14-0\", \"12-13-23\", {}\n",
    "# target, etime, subset = \"12-13-0\", \"12-12-23\", {}\n",
    "# target, etime, subset = \"12-12-0\", \"12-11-23\", {}\n",
    "# target, etime, subset = \"12-11-0\", \"12-10-23\", {}\n",
    "# target, etime, subset = \"12-10-0\", \"12-09-23\", {}\n",
    "# target, etime, subset = \"12-09-0\", \"12-08-23\", {}\n",
    "# target, etime, subset = \"12-08-0\", \"12-07-23\", {}\n",
    "# target, etime, subset = \"12-07-0\", \"12-06-23\", {}\n",
    "# target, etime, subset = \"12-06-0\", \"12-05-23\", {}\n",
    "# target, etime, subset = \"12-05-0\", \"12-04-23\", {}\n",
    "# target, etime, subset = \"12-04-0\", \"12-03-23\", {}\n",
    "# target, etime, subset = \"12-03-0\", \"12-04-23\", {}\n",
    "# target, etime, subset = \"12-02-0\", \"12-01-23\", {}\n",
    "# target, etime, subset = \"12-01-0\", \"11-30-23\", {}"
   ]
  },
  {
   "cell_type": "code",
   "execution_count": 2,
   "metadata": {},
   "outputs": [],
   "source": [
    "import fileinput"
   ]
  },
  {
   "cell_type": "code",
   "execution_count": 3,
   "metadata": {},
   "outputs": [],
   "source": [
    "for line in fileinput.input(\"./data/tianchi_fresh_comp_train_item.csv\"):\n",
    "    subset[line.strip().split(\",\")[0]] = True"
   ]
  },
  {
   "cell_type": "code",
   "execution_count": 4,
   "metadata": {},
   "outputs": [],
   "source": [
    "feature_user_item = sc.textFile('./feature/'+target+'/user_item', 1).map(lambda x : (x.strip().split(\"\\t\")[0]+\"\\t\"+x.strip().split(\"\\t\")[2],x.strip()))\n",
    "feature_user_ict = sc.textFile('./feature/'+target+'/user_ict', 1).map(lambda x : (x.strip().split(\"\\t\")[0]+\"\\t\"+x.strip().split(\"\\t\")[1],\"\\t\".join(x.strip().split(\"\\t\")[2:])))\n",
    "feature_item = sc.textFile('./feature/'+target+'/item', 1).map(lambda x : (x.strip().split(\"\\t\")[0],\"\\t\".join(x.strip().split(\"\\t\")[1:])))\n",
    "feature_user = sc.textFile('./feature/'+target+'/user', 1).map(lambda x : (x.strip().split(\"\\t\")[0],\"\\t\".join(x.strip().split(\"\\t\")[1:])))\n",
    "counts = feature_user_item.join(feature_user_ict).map(lambda x:(x[1][0].split(\"\\t\")[1],x[1][0]+\"\\t\"+x[1][1]))\n",
    "counts = counts.join(feature_item).map(lambda x:(x[1][0].split(\"\\t\")[0],x[1][0]+\"\\t\"+x[1][1]))\n",
    "counts = counts.join(feature_user).map(lambda x:x[1][0]+\"\\t\"+x[1][1])\n",
    "counts = counts.filter(lambda x : int(x.strip().split(\"\\t\")[3:][9])>0 and int(x.strip().split(\"\\t\")[3:][17])>=2)"
   ]
  },
  {
   "cell_type": "code",
   "execution_count": 5,
   "metadata": {},
   "outputs": [
    {
     "name": "stdout",
     "output_type": "stream",
     "text": [
      "Traceback (most recent call last):\n",
      "  File \"/tmp/kernel-PySpark-4f6f891a-3991-4fa9-a0f6-72253493ac59/pyspark_runner.py\", line 205, in <module>\n",
      "    output.reset()\n",
      "AttributeError: 'NoneType' object has no attribute 'reset'\n"
     ]
    }
   ],
   "source": [
    "output = counts.saveAsTextFile(\"./prediction/\"+target)"
   ]
  },
  {
   "cell_type": "code",
   "execution_count": null,
   "metadata": {},
   "outputs": [],
   "source": []
  },
  {
   "cell_type": "code",
   "execution_count": null,
   "metadata": {},
   "outputs": [],
   "source": []
  },
  {
   "cell_type": "code",
   "execution_count": null,
   "metadata": {},
   "outputs": [],
   "source": []
  },
  {
   "cell_type": "code",
   "execution_count": null,
   "metadata": {},
   "outputs": [],
   "source": []
  }
 ],
 "metadata": {
  "kernelspec": {
   "display_name": "Apache Toree - PySpark",
   "language": "python",
   "name": "apache_toree_pyspark"
  },
  "language_info": {
   "file_extension": ".py",
   "name": "python",
   "pygments_lexer": "python",
   "version": "2.7.12\n"
  }
 },
 "nbformat": 4,
 "nbformat_minor": 2
}
