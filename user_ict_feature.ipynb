{
 "cells": [
  {
   "cell_type": "code",
   "execution_count": 1,
   "metadata": {},
   "outputs": [],
   "source": [
    "lines = sc.textFile('./data/uid_iid')"
   ]
  },
  {
   "cell_type": "code",
   "execution_count": 2,
   "metadata": {},
   "outputs": [],
   "source": [
    "target, etime, subset = \"12-19-0\", \"12-18-23\", {}\n",
    "# target, etime, subset = \"12-18-0\", \"12-17-23\", {}\n",
    "# target, etime, subset = \"12-17-0\", \"12-16-23\", {}\n",
    "# target, etime, subset = \"12-16-0\", \"12-15-23\", {}\n",
    "# target, etime, subset = \"12-15-0\", \"12-14-23\", {}\n",
    "# target, etime, subset = \"12-14-0\", \"12-13-23\", {}\n",
    "# target, etime, subset = \"12-13-0\", \"12-12-23\", {}\n",
    "# target, etime, subset = \"12-12-0\", \"12-11-23\", {}\n",
    "# target, etime, subset = \"12-11-0\", \"12-10-23\", {}\n",
    "# target, etime, subset = \"12-10-0\", \"12-09-23\", {}\n",
    "# target, etime, subset = \"12-09-0\", \"12-08-23\", {}\n",
    "# target, etime, subset = \"12-08-0\", \"12-07-23\", {}\n",
    "# target, etime, subset = \"12-07-0\", \"12-06-23\", {}\n",
    "# target, etime, subset = \"12-06-0\", \"12-05-23\", {}\n",
    "# target, etime, subset = \"12-05-0\", \"12-04-23\", {}\n",
    "# target, etime, subset = \"12-04-0\", \"12-03-23\", {}\n",
    "# target, etime, subset = \"12-03-0\", \"12-04-23\", {}\n",
    "# target, etime, subset = \"12-02-0\", \"12-01-23\", {}\n",
    "# target, etime, subset = \"12-01-0\", \"11-30-23\", {}"
   ]
  },
  {
   "cell_type": "code",
   "execution_count": 3,
   "metadata": {},
   "outputs": [],
   "source": [
    "import fileinput"
   ]
  },
  {
   "cell_type": "code",
   "execution_count": 4,
   "metadata": {},
   "outputs": [],
   "source": [
    "for line in fileinput.input(\"./data/tianchi_fresh_comp_train_item.csv\"):\n",
    "    subset[line.strip().split(\",\")[2]] = True"
   ]
  },
  {
   "cell_type": "code",
   "execution_count": 5,
   "metadata": {},
   "outputs": [],
   "source": [
    "def extract1(line):\n",
    "    import time\n",
    "    (uid, iid, ict) = line.strip().split(\"\\t\")[0].split(\" \")\n",
    "    if subset.has_key(ict):\n",
    "        items = filter(lambda x:x[0]>0, [(int(time.mktime(time.strptime('2014-'+etime,'%Y-%m-%d-%H'))-time.mktime(time.strptime('2014-'+i.split(\",\")[0],'%Y-%m-%d-%H')))/(24*3600)+1, int(i.split(\",\")[1])) for i in line.strip().split(\"\\t\")[1].split(\" \")])\n",
    "        return (uid+\"\\t\"+ict,items)\n",
    "    else:\n",
    "        return (\"\",\"\")"
   ]
  },
  {
   "cell_type": "code",
   "execution_count": 6,
   "metadata": {},
   "outputs": [],
   "source": [
    "def extract2(items_list):\n",
    "    import itertools\n",
    "    items = []\n",
    "    for i in items_list:\n",
    "        items.extend(i)\n",
    "    items = sorted(items, key=lambda x:x[0], reverse=True) if len(items)!=0 else []\n",
    "    f, inf = [0]*26, 100\n",
    "    buy = filter(lambda x:x[1]==4, items)\n",
    "    last = buy[-1][0] if len(buy)!=0 else inf\n",
    "    a1 = filter(lambda x:x[0]<last and x[1]==1, items)\n",
    "    a2 = filter(lambda x:x[0]<last and x[1]==2, items)\n",
    "    a3 = filter(lambda x:x[0]<last and x[1]==3, items)\n",
    "    # 基本统计特征\n",
    "    f[0] = a2[-1][0] if len(a2)!=0 else inf # 购买后最后一次加入收藏夹距离天数\n",
    "    f[1] = a3[-1][0] if len(a3)!=0 else inf # 购买后最后一次加入购物车距离天数\n",
    "    f[2] = len(a1) # 购买后点击次数\n",
    "    f[3] = len(a2) # 购买后加收次数\n",
    "    f[4] = len(a3) # 购买后加购次数\n",
    "    f[5] = len(filter(lambda x:x[0]<=1, items)) # 最后1天交互次数\n",
    "    f[6] = len(filter(lambda x:x[0]==2, items)) # 倒数第2天交互次数\n",
    "    f[7] = len(filter(lambda x:x[0]==3, items)) # 倒数第3天交互次数\n",
    "    f[8] = len(filter(lambda x:x[0]==4, items)) # 倒数第4天交互次数\n",
    "    f[9] = len(filter(lambda x:x[0]<=7, items)) # 最后7天交互次数\n",
    "    f[10] = len(buy) # 历史购买次数\n",
    "    f[11] = last # 最后一次购买距离天数\n",
    "    f[12] = len(set([item[0] for item in items if item[0]<=3])) # 最后3天内交互天数\n",
    "    f[13] = len(set([item[0] for item in items if item[0]<=7])) # 最后1周内交互天数\n",
    "    f[14] = len(set([item[0] for item in items if item[0]<=21])) # 最后3周内交互天数\n",
    "    f[15] = items[-1][0] if len(items)!=0 else inf # 最后1次交互距离天数\n",
    "    inter = [len(list(i)) for _,i in itertools.groupby(items, lambda x: x[0])]\n",
    "    f[16] = len(inter) #交互天数\n",
    "    f[17] = max(inter) if len(inter)!=0 else 0 #交互最多的一天交互次数\n",
    "    f[18] = len(filter(lambda x:x[0]<=1 and x[1]==4, items)) # 最后1天购买次数\n",
    "    f[19] = len(filter(lambda x:x[0]<=2 and x[1]==4, items)) # 最后2天购买次数\n",
    "    f[20] = len(filter(lambda x:x[0]<=3 and x[1]==4, items)) # 最后3天购买次数\n",
    "    f[21] = len(filter(lambda x:x[0]<=7 and x[1]==4, items)) # 最后7天购买次数\n",
    "    f[22] = len(filter(lambda x:x[1]==1, items)) # 总点击次数\n",
    "    f[23] = len(filter(lambda x:x[1]==2, items)) # 总添加收藏夹次数\n",
    "    f[24] = len(filter(lambda x:x[1]==3, items)) # 总加购次数\n",
    "    f[25] = items[0][0]-items[-1][0]+1 if len(items)!=0 else 0 # 第一次交互到最后一次交互的持续时间\n",
    "    return \"\\t\".join([str(i) for i in f])"
   ]
  },
  {
   "cell_type": "code",
   "execution_count": 7,
   "metadata": {},
   "outputs": [],
   "source": [
    "counts = lines.map(lambda x : extract1(x))\\\n",
    "                .filter(lambda x : x[0]!=\"\")\\\n",
    "                .groupByKey()\\\n",
    "                .map(lambda x : x[0]+\"\\t\"+extract2(x[1]))"
   ]
  },
  {
   "cell_type": "code",
   "execution_count": 8,
   "metadata": {},
   "outputs": [
    {
     "name": "stdout",
     "output_type": "stream",
     "text": [
      "Traceback (most recent call last):\n",
      "  File \"/tmp/kernel-PySpark-3bcbbd70-5252-4a60-a229-b1b60207ef35/pyspark_runner.py\", line 205, in <module>\n",
      "    output.reset()\n",
      "AttributeError: 'NoneType' object has no attribute 'reset'\n"
     ]
    }
   ],
   "source": [
    "output = counts.saveAsTextFile(\"./feature/\"+target+\"/user_ict/\")"
   ]
  },
  {
   "cell_type": "code",
   "execution_count": null,
   "metadata": {},
   "outputs": [],
   "source": []
  }
 ],
 "metadata": {
  "kernelspec": {
   "display_name": "Apache Toree - PySpark",
   "language": "python",
   "name": "apache_toree_pyspark"
  },
  "language_info": {
   "file_extension": ".py",
   "name": "python",
   "pygments_lexer": "python",
   "version": "2.7.12\n"
  }
 },
 "nbformat": 4,
 "nbformat_minor": 2
}
